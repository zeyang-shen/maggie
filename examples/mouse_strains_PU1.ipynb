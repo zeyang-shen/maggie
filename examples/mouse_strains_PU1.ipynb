{
 "cells": [
  {
   "cell_type": "markdown",
   "metadata": {},
   "source": [
    "This notebook contains the complete workflow of how to go from your files with genomic regions and measurements/labels of genomic features to files that can be input into MAGGIE. The main steps are as below:\n",
    "\n",
    "    peak file/bed file with annotation -> differential peaks -> FASTA files -> MAGGIE\n",
    "    \n",
    "   1. Start with a peak file (HOMER format) or a bed file, which have annotations of the genomic feature of your interest at the last few columns. Annotation can be counts of reads/tags within peaks (i.e., reads-enriched regions) or boolean labels indicating the presence and absence of genomic feature\n",
    "   2. Call differential peaks based on the reads counts by setting a threshold or based on presence and absence of certain labels. \n",
    "   3. Extract sequences for these differential regions from the genomes of comparative samples -> fasta file 1 and fasta file 2\n",
    "   4. Input two fasta files to MAGGIE and obtain functional motifs for the genomic feature of your interest!"
   ]
  },
  {
   "cell_type": "markdown",
   "metadata": {},
   "source": [
    "The tutorial starts here. First of all, let's load packages:"
   ]
  },
  {
   "cell_type": "code",
   "execution_count": 1,
   "metadata": {},
   "outputs": [],
   "source": [
    "import numpy as np\n",
    "import pandas as pd\n",
    "import matplotlib.pyplot as plt\n",
    "import seaborn as sns\n",
    "%matplotlib inline\n",
    "\n",
    "from collections import Counter\n",
    "\n",
    "from Bio import Seq, motifs\n",
    "\n",
    "import sys\n",
    "sys.path.append('..') # add the path of 'maggie' package\n",
    "from maggie import score, utils, visual # import 'maggie' package and functions\n",
    "\n",
    "import os\n",
    "import fnmatch"
   ]
  },
  {
   "cell_type": "markdown",
   "metadata": {},
   "source": [
    "# Step 1: peak file --> differential peaks"
   ]
  },
  {
   "cell_type": "markdown",
   "metadata": {},
   "source": [
    "### Read peak file"
   ]
  },
  {
   "cell_type": "code",
   "execution_count": 2,
   "metadata": {},
   "outputs": [],
   "source": [
    "data_path = './data/mouse_strains_PU1/'\n",
    "peak_file = 'mouse_strains_PU1_merged_annotated.txt'\n",
    "peak_df = pd.read_csv(data_path+peak_file, sep='\\t', index_col=0)\n",
    "peak_df.index.name = None"
   ]
  },
  {
   "cell_type": "markdown",
   "metadata": {},
   "source": [
    "### filter for regular chromosomes"
   ]
  },
  {
   "cell_type": "code",
   "execution_count": 3,
   "metadata": {},
   "outputs": [],
   "source": [
    "include_chromosome = ['chr'+str(k) for k in np.arange(1,20)]\n",
    "peak_df = peak_df.loc[np.any([np.array(peak_df.iloc[:,0] == i) for i in include_chromosome], axis=0)]\n",
    "labels = peak_df.iloc[:,-2:]"
   ]
  },
  {
   "cell_type": "markdown",
   "metadata": {},
   "source": [
    "### filter by minimum tags/reads"
   ]
  },
  {
   "cell_type": "code",
   "execution_count": 8,
   "metadata": {},
   "outputs": [
    {
     "name": "stdout",
     "output_type": "stream",
     "text": [
      "After tag filtering: 93888\n"
     ]
    }
   ],
   "source": [
    "min_reads = 10\n",
    "minTag_bools = labels.max(axis=1) >= min_reads\n",
    "filtered_df = peak_df.loc[minTag_bools]\n",
    "print('After tag filtering:', len(filtered_df))"
   ]
  },
  {
   "cell_type": "markdown",
   "metadata": {},
   "source": [
    "### define differential regions with preset cutoff"
   ]
  },
  {
   "cell_type": "code",
   "execution_count": 9,
   "metadata": {},
   "outputs": [],
   "source": [
    "fc_cutoff = 1 # preset cutoff on the fold change of tags"
   ]
  },
  {
   "cell_type": "code",
   "execution_count": 10,
   "metadata": {},
   "outputs": [
    {
     "name": "stdout",
     "output_type": "stream",
     "text": [
      "BALBC 4318\n",
      "C57Bl6 3950\n"
     ]
    }
   ],
   "source": [
    "filtered_labels = filtered_df.iloc[:,-2:]\n",
    "filtered_labels = np.log2(filtered_labels+1)\n",
    "label_fc = filtered_labels.iloc[:,0] - filtered_labels.iloc[:,1]\n",
    "# specific for the 1st sample\n",
    "spec_bools = label_fc > fc_cutoff\n",
    "spec_df1 = filtered_df.loc[spec_bools]\n",
    "print(filtered_labels.columns.values[0], len(spec_df1))\n",
    "\n",
    "# specific for the 2nd sample\n",
    "spec_bools = label_fc < -fc_cutoff\n",
    "spec_df2 = filtered_df.loc[spec_bools]\n",
    "print(filtered_labels.columns.values[1], len(spec_df2))"
   ]
  },
  {
   "cell_type": "markdown",
   "metadata": {},
   "source": [
    "### scale all regions to the same size and save to files"
   ]
  },
  {
   "cell_type": "code",
   "execution_count": 11,
   "metadata": {},
   "outputs": [],
   "source": [
    "scaled_size = 200"
   ]
  },
  {
   "cell_type": "code",
   "execution_count": 12,
   "metadata": {},
   "outputs": [
    {
     "name": "stderr",
     "output_type": "stream",
     "text": [
      "/gpfs/data01/glasslab/home/zes017/.conda/envs/maggie/lib/python3.6/site-packages/pandas/core/indexing.py:517: SettingWithCopyWarning: \n",
      "A value is trying to be set on a copy of a slice from a DataFrame.\n",
      "Try using .loc[row_indexer,col_indexer] = value instead\n",
      "\n",
      "See the caveats in the documentation: http://pandas.pydata.org/pandas-docs/stable/indexing.html#indexing-view-versus-copy\n",
      "  self.obj[item] = s\n"
     ]
    }
   ],
   "source": [
    "for n, spec_df in enumerate([spec_df1, spec_df2]):\n",
    "    # scale region size\n",
    "    index = ['_'.join(row[1][:3].astype(str)) for row in spec_df.iterrows()]\n",
    "    spec_df.index = index\n",
    "    mid_points = ((spec_df.iloc[:,1]+spec_df.iloc[:,2])/2).astype(int)\n",
    "    spec_df.iloc[:,1] = mid_points - int(scaled_size/2)\n",
    "    spec_df.iloc[:,2] = mid_points + int(scaled_size/2)\n",
    "\n",
    "    # save to file\n",
    "    output_file = peak_file.replace('.txt', '_spec'+str(n)+'.txt')\n",
    "    spec_df.to_csv(data_path+output_file, sep='\\t')"
   ]
  },
  {
   "cell_type": "markdown",
   "metadata": {},
   "source": [
    "# Step 2: differential peaks --> FASTA files"
   ]
  },
  {
   "cell_type": "markdown",
   "metadata": {},
   "source": [
    "Before extracting sequences based on differential peaks, need to download the corresponding genomes first, which include mouse strains C57Bl6 (mm10) and BALBC"
   ]
  },
  {
   "cell_type": "code",
   "execution_count": 24,
   "metadata": {},
   "outputs": [
    {
     "name": "stderr",
     "output_type": "stream",
     "text": [
      "IOPub data rate exceeded.\n",
      "The notebook server will temporarily stop sending output\n",
      "to the client in order to avoid crashing it.\n",
      "To change this limit, set the config variable\n",
      "`--NotebookApp.iopub_data_rate_limit`.\n",
      "\n",
      "Current values:\n",
      "NotebookApp.iopub_data_rate_limit=1000000.0 (bytes/sec)\n",
      "NotebookApp.rate_limit_window=3.0 (secs)\n",
      "\n"
     ]
    }
   ],
   "source": [
    "%%bash\n",
    "mkdir ./data/genomes/ #make a folder that will be used to store genome files\n",
    "cd ./data/genomes/\n",
    "wget http://homer.ucsd.edu/maggie/downloads/genomes/BALBC.tar.gz\n",
    "wget http://homer.ucsd.edu/maggie/downloads/genomes/C57BL6.tar.gz"
   ]
  },
  {
   "cell_type": "markdown",
   "metadata": {},
   "source": [
    "Unzip genome files"
   ]
  },
  {
   "cell_type": "code",
   "execution_count": 25,
   "metadata": {
    "collapsed": true
   },
   "outputs": [
    {
     "name": "stdout",
     "output_type": "stream",
     "text": [
      "BALBC/\n",
      "BALBC/chr16_allele_1.mut\n",
      "BALBC/chr7_allele_1.ref_to_strain.vector\n",
      "BALBC/chr8_allele_1.mut\n",
      "BALBC/chr2_allele_1.ref_to_strain.vector\n",
      "BALBC/chr16_allele_1.fa\n",
      "BALBC/chr16_allele_1.strain_to_ref.vector\n",
      "BALBC/chr15_allele_1.strain_to_ref.vector\n",
      "BALBC/last_shift_ref.txt\n",
      "BALBC/chr3_allele_1.fa\n",
      "BALBC/chr18_allele_1.strain_to_ref.vector\n",
      "BALBC/chr19_allele_1.strain_to_ref.vector\n",
      "BALBC/chr13_allele_1.mut\n",
      "BALBC/chr18_allele_1.mut\n",
      "BALBC/lookup_table_chr.txt\n",
      "BALBC/chr2_allele_1.fa\n",
      "BALBC/chr15_allele_1.ref_to_strain.vector\n",
      "BALBC/chr15_allele_1.mut\n",
      "BALBC/chr1_allele_1.fa\n",
      "BALBC/chr10_allele_1.fa\n",
      "BALBC/chrY_allele_1.fa\n",
      "BALBC/chrX_allele_1.strain_to_ref.vector\n",
      "BALBC/chr9_allele_1.strain_to_ref.vector\n",
      "BALBC/chr16_allele_1.ref_to_strain.vector\n",
      "BALBC/chr8_allele_1.strain_to_ref.vector\n",
      "BALBC/chr10_allele_1.strain_to_ref.vector\n",
      "BALBC/chrX_allele_1.mut\n",
      "BALBC/chr17_allele_1.strain_to_ref.vector\n",
      "BALBC/chr7_allele_1.mut\n",
      "BALBC/chr14_allele_1.mut\n",
      "BALBC/chr11_allele_1.mut\n",
      "BALBC/chr4_allele_1.fa\n",
      "BALBC/chrX_allele_1.fa\n",
      "BALBC/chr12_allele_1.mut\n",
      "BALBC/last_shift_strain.txt\n",
      "BALBC/chr1_allele_1.strain_to_ref.vector\n",
      "BALBC/chr9_allele_1.mut\n",
      "BALBC/chr14_allele_1.fa\n",
      "BALBC/chr2_allele_1.mut\n",
      "BALBC/preparsed/\n",
      "BALBC/preparsed/BALBCJ.200.gcbins\n",
      "BALBC/preparsed/BALBCJ.200.pos\n",
      "BALBC/preparsed/BALBCJ.200.cgfreq\n",
      "BALBC/preparsed/BALBCJ.200.cgbins\n",
      "BALBC/preparsed/BALBCJ.200.seq\n",
      "BALBC/chr14_allele_1.ref_to_strain.vector\n",
      "BALBC/chrX_allele_1.ref_to_strain.vector\n",
      "BALBC/chr12_allele_1.fa\n",
      "BALBC/chr11_allele_1.ref_to_strain.vector\n",
      "BALBC/chr1_allele_1.mut\n",
      "BALBC/chr3_allele_1.ref_to_strain.vector\n",
      "BALBC/chr19_allele_1.ref_to_strain.vector\n",
      "BALBC/chr9_allele_1.ref_to_strain.vector\n",
      "BALBC/chr19_allele_1.mut\n",
      "BALBC/chr5_allele_1.fa\n",
      "BALBC/chr18_allele_1.fa\n",
      "BALBC/chr7_allele_1.fa\n",
      "BALBC/chr1_allele_1.ref_to_strain.vector\n",
      "BALBC/chr12_allele_1.ref_to_strain.vector\n",
      "BALBC/chr15_allele_1.fa\n",
      "BALBC/chr6_allele_1.mut\n",
      "BALBC/chr13_allele_1.strain_to_ref.vector\n",
      "BALBC/chrM_allele_1.fa\n",
      "BALBC/chr4_allele_1.ref_to_strain.vector\n",
      "BALBC/chr5_allele_1.mut\n",
      "BALBC/chr2_allele_1.strain_to_ref.vector\n",
      "BALBC/chr4_allele_1.mut\n",
      "BALBC/chr8_allele_1.fa\n",
      "BALBC/chr10_allele_1.ref_to_strain.vector\n",
      "BALBC/chr6_allele_1.strain_to_ref.vector\n",
      "BALBC/chr11_allele_1.fa\n",
      "BALBC/chr18_allele_1.ref_to_strain.vector\n",
      "BALBC/chr5_allele_1.strain_to_ref.vector\n",
      "BALBC/chr14_allele_1.strain_to_ref.vector\n",
      "BALBC/chr8_allele_1.ref_to_strain.vector\n",
      "BALBC/chr17_allele_1.mut\n",
      "BALBC/chr6_allele_1.ref_to_strain.vector\n",
      "BALBC/chr12_allele_1.strain_to_ref.vector\n",
      "BALBC/chr5_allele_1.ref_to_strain.vector\n",
      "BALBC/chr3_allele_1.mut\n",
      "BALBC/chr4_allele_1.strain_to_ref.vector\n",
      "BALBC/chr17_allele_1.fa\n",
      "BALBC/chr13_allele_1.ref_to_strain.vector\n",
      "BALBC/chr10_allele_1.mut\n",
      "BALBC/chr17_allele_1.ref_to_strain.vector\n",
      "BALBC/chr13_allele_1.fa\n",
      "BALBC/chr11_allele_1.strain_to_ref.vector\n",
      "BALBC/chr9_allele_1.fa\n",
      "BALBC/chr6_allele_1.fa\n",
      "BALBC/chr19_allele_1.fa\n",
      "BALBC/chr3_allele_1.strain_to_ref.vector\n",
      "BALBC/chr7_allele_1.strain_to_ref.vector\n",
      "C57BL6/\n",
      "C57BL6/chr16_allele_1.fa\n",
      "C57BL6/last_shift_ref.txt\n",
      "C57BL6/chr3_allele_1.fa\n",
      "C57BL6/lookup_table_chr.txt\n",
      "C57BL6/chr2_allele_1.fa\n",
      "C57BL6/chr1_allele_1.fa\n",
      "C57BL6/chr10_allele_1.fa\n",
      "C57BL6/chrY_allele_1.fa\n",
      "C57BL6/chr4_allele_1.fa\n",
      "C57BL6/chrX_allele_1.fa\n",
      "C57BL6/last_shift_strain.txt\n",
      "C57BL6/chr14_allele_1.fa\n",
      "C57BL6/preparsed/\n",
      "C57BL6/preparsed/C57BL6J.200.cgfreq\n",
      "C57BL6/preparsed/C57BL6J.200.cgbins\n",
      "C57BL6/preparsed/C57BL6J.200.pos\n",
      "C57BL6/preparsed/C57BL6J.200.gcbins\n",
      "C57BL6/preparsed/C57BL6J.200.seq\n",
      "C57BL6/chr12_allele_1.fa\n",
      "C57BL6/chr5_allele_1.fa\n",
      "C57BL6/chr18_allele_1.fa\n",
      "C57BL6/chr7_allele_1.fa\n",
      "C57BL6/chr15_allele_1.fa\n",
      "C57BL6/chrM_allele_1.fa\n",
      "C57BL6/chr8_allele_1.fa\n",
      "C57BL6/chr11_allele_1.fa\n",
      "C57BL6/chr17_allele_1.fa\n",
      "C57BL6/chr13_allele_1.fa\n",
      "C57BL6/chr9_allele_1.fa\n",
      "C57BL6/chr6_allele_1.fa\n",
      "C57BL6/chr19_allele_1.fa\n"
     ]
    }
   ],
   "source": [
    "%%bash\n",
    "cd ./data/genomes/\n",
    "tar -zxvf BALBC.tar.gz\n",
    "tar -zxvf C57BL6.tar.gz"
   ]
  },
  {
   "cell_type": "markdown",
   "metadata": {},
   "source": [
    "Extract sequences using a script that consider the shift of genome coordinates across samples"
   ]
  },
  {
   "cell_type": "code",
   "execution_count": 26,
   "metadata": {},
   "outputs": [
    {
     "name": "stderr",
     "output_type": "stream",
     "text": [
      "Saving peaks\n",
      "This it is: ./data/mouse_strains_PU1/mouse_strains_PU1_merged_annotated_spec1.txt\n",
      "Saving peaks\n",
      "This it is: ./data/mouse_strains_PU1/mouse_strains_PU1_merged_annotated_spec0.txt\n",
      "Saving peaks\n",
      "This it is: ./data/mouse_strains_PU1/mouse_strains_PU1_merged_annotated_spec0.txt\n",
      "Saving peaks\n",
      "This it is: ./data/mouse_strains_PU1/mouse_strains_PU1_merged_annotated_spec1.txt\n",
      "Loading shift vectors\n",
      "Can't open ./data/genomes//C57BL6/chr_allele_1.fa\n",
      "Exclude chromosome  allele 1 from analysis\n",
      "Loading shift vectors\n",
      "Loading shift vectors\n",
      "Loading shift vectors\n",
      "Can't open ./data/genomes//C57BL6/chr_allele_1.fa\n",
      "Exclude chromosome  allele 1 from analysis\n",
      "Can't open ./data/genomes//BALBC/chr_allele_1.fa\n",
      "Exclude chromosome  allele 1 from analysis\n",
      "Can't open ./data/genomes//BALBC/chr_allele_1.fa\n",
      "Exclude chromosome  allele 1 from analysis\n"
     ]
    }
   ],
   "source": [
    "%%bash\n",
    "genome_dir='./data/genomes/' # specify the folder where genome files are stored\n",
    "# extract sequences for BALBC-specific peaks\n",
    "file1='./data/mouse_strains_PU1/mouse_strains_PU1_merged_annotated_spec0.txt'\n",
    "file1_out_ref=$(echo $file1 | sed 's/.txt/_ref.fa/g')\n",
    "perl extract_seq_from_peakfiles.pl -ind BALBC -file $file1 -data_dir $genome_dir -output $file1_out_ref &\n",
    "file1_out_alt=$(echo $file1 | sed 's/.txt/_alt.fa/g')\n",
    "perl extract_seq_from_peakfiles.pl -ind C57Bl6 -file $file1 -data_dir $genome_dir -output $file1_out_alt &\n",
    " \n",
    "# extract sequences for C57Bl6-specific peaks\n",
    "file2='./data/mouse_strains_PU1/mouse_strains_PU1_merged_annotated_spec1.txt'\n",
    "file2_out_ref=$(echo $file2 | sed 's/.txt/_ref.fa/g')\n",
    "perl extract_seq_from_peakfiles.pl -ind C57Bl6 -file $file2 -data_dir $genome_dir -output $file2_out_ref &\n",
    "file2_out_alt=$(echo $file2 | sed 's/.txt/_alt.fa/g')\n",
    "perl extract_seq_from_peakfiles.pl -ind BALBC -file $file2 -data_dir $genome_dir -output $file2_out_alt &\n"
   ]
  },
  {
   "cell_type": "markdown",
   "metadata": {},
   "source": [
    "# Step 3: FASTA files --> MAGGIE"
   ]
  },
  {
   "cell_type": "markdown",
   "metadata": {},
   "source": [
    "### read in motif files"
   ]
  },
  {
   "cell_type": "code",
   "execution_count": 14,
   "metadata": {},
   "outputs": [],
   "source": [
    "motif_dict = score.load_motifs('JASPAR2018_CORE_vertebrates_non-redundant_pfms_jaspar/', \n",
    "                               pseudocounts=0.01)"
   ]
  },
  {
   "cell_type": "markdown",
   "metadata": {},
   "source": [
    "### concatenate FASTA files"
   ]
  },
  {
   "cell_type": "code",
   "execution_count": 15,
   "metadata": {
    "scrolled": false
   },
   "outputs": [
    {
     "name": "stdout",
     "output_type": "stream",
     "text": [
      "Successfully concatenate files ['./data/mouse_strains_PU1/mouse_strains_PU1_merged_annotated_spec0_ref.fa', './data/mouse_strains_PU1/mouse_strains_PU1_merged_annotated_spec1_ref.fa'] to: ./data/mouse_strains_PU1/concat_files_ref.fa\n",
      "Successfully concatenate files ['./data/mouse_strains_PU1/mouse_strains_PU1_merged_annotated_spec0_alt.fa', './data/mouse_strains_PU1/mouse_strains_PU1_merged_annotated_spec1_alt.fa'] to: ./data/mouse_strains_PU1/concat_files_mut.fa\n"
     ]
    }
   ],
   "source": [
    "data_path = './data/mouse_strains_PU1/'\n",
    "orig_fasta_files = np.sort(fnmatch.filter(os.listdir(data_path), '*spec*ref.fa'))\n",
    "mut_fasta_files = np.sort(fnmatch.filter(os.listdir(data_path), '*spec*alt.fa'))\n",
    "utils.cat_fasta_files([data_path+f for f in orig_fasta_files], [data_path+f for f in mut_fasta_files], \n",
    "                      output_name=data_path+'concat_files')"
   ]
  },
  {
   "cell_type": "markdown",
   "metadata": {},
   "source": [
    "### Read FASTA files"
   ]
  },
  {
   "cell_type": "code",
   "execution_count": 16,
   "metadata": {},
   "outputs": [
    {
     "name": "stdout",
     "output_type": "stream",
     "text": [
      "8268 8268\n"
     ]
    }
   ],
   "source": [
    "orig_seq_dict = utils.read_fasta(data_path+'concat_files_ref.fa')\n",
    "mut_seq_dict = utils.read_fasta(data_path+'concat_files_mut.fa')\n",
    "print(len(orig_seq_dict), len(mut_seq_dict))"
   ]
  },
  {
   "cell_type": "markdown",
   "metadata": {},
   "source": [
    "### Test on one specific motif"
   ]
  },
  {
   "cell_type": "code",
   "execution_count": 17,
   "metadata": {},
   "outputs": [],
   "source": [
    "compute_motif = 'SPI1'\n",
    "res = score.test_one_motif(motif_dict[compute_motif], orig_seq_dict, mut_seq_dict, 1)"
   ]
  },
  {
   "cell_type": "code",
   "execution_count": 18,
   "metadata": {},
   "outputs": [
    {
     "name": "stdout",
     "output_type": "stream",
     "text": [
      "MAGGIE results for motif SPI1:\n",
      "-log10(p-value): 157.128193 (90% CI [145.071122, 168.349306])\n"
     ]
    },
    {
     "data": {
      "image/png": "[encoded data removed]",
      "text/plain": [
       "<matplotlib.figure.Figure at 0x7f744c6efe10>"
      ]
     },
     "metadata": {
      "needs_background": "light"
     },
     "output_type": "display_data"
    }
   ],
   "source": [
    "print('MAGGIE results for motif %s:' % (res[0]))\n",
    "print('-log10(p-value): %f (90%% CI [%f, %f])' % (np.mean(res[2]), \n",
    "                                                  np.percentile(res[2], 5), np.percentile(res[2], 95)))\n",
    "score_diff = np.array(res[3])\n",
    "sns.boxplot(score_diff[score_diff!=0])\n",
    "plt.title('Score difference distribution');\n",
    "plt.xlabel('motif score difference');"
   ]
  },
  {
   "cell_type": "markdown",
   "metadata": {
    "collapsed": true
   },
   "source": [
    "### Test on all motifs"
   ]
  },
  {
   "cell_type": "code",
   "execution_count": 19,
   "metadata": {},
   "outputs": [],
   "source": [
    "results = score.test_all_motifs(motif_dict, orig_seq_dict, mut_seq_dict, \n",
    "                                top_site=1, p=30) #specify number of cores used for computation, the more the faster\n",
    "results.to_csv(data_path+'maggie_output/maggie_output.tsv', sep='\\t')"
   ]
  },
  {
   "cell_type": "markdown",
   "metadata": {},
   "source": [
    "### Merge similar motifs based on correlation of score differences"
   ]
  },
  {
   "cell_type": "code",
   "execution_count": 20,
   "metadata": {},
   "outputs": [
    {
     "name": "stdout",
     "output_type": "stream",
     "text": [
      "(246, 6)\n"
     ]
    }
   ],
   "source": [
    "merge_stats = score.combine_similar_motifs(results, 0.6) # merge motifs whose score differences have pearson correlation over 0.6\n",
    "print(merge_stats.shape)\n",
    "merge_stats.to_csv(data_path+'maggie_output/maggie_output_merged.tsv', sep='\\t')"
   ]
  },
  {
   "cell_type": "markdown",
   "metadata": {},
   "source": [
    "### Show significant motifs"
   ]
  },
  {
   "cell_type": "code",
   "execution_count": 21,
   "metadata": {},
   "outputs": [
    {
     "name": "stdout",
     "output_type": "stream",
     "text": [
      "42\n"
     ]
    }
   ],
   "source": [
    "alpha = 5e-2\n",
    "sig_motifs = utils.FDR_cutoff(np.abs(merge_stats['Median p-val']), alpha=alpha)\n",
    "print(len(sig_motifs))\n",
    "merge_stats.loc[sig_motifs].to_csv(data_path+'maggie_output/maggie_output_mergedSignificant.tsv', sep='\\t')"
   ]
  },
  {
   "cell_type": "markdown",
   "metadata": {},
   "source": [
    "### Generate visualization of significant motifs"
   ]
  },
  {
   "cell_type": "code",
   "execution_count": 22,
   "metadata": {},
   "outputs": [
    {
     "name": "stdout",
     "output_type": "stream",
     "text": [
      "Successfully saved motif logos\n"
     ]
    }
   ],
   "source": [
    "visual.save_logos(motif_dict, folder='./data/mouse_strains_PU1/maggie_output/')\n",
    "visual.generate_html(folder='./data/mouse_strains_PU1/maggie_output/')"
   ]
  },
  {
   "cell_type": "markdown",
   "metadata": {},
   "source": [
    "Now, you can go to the folder './data/mouse_strains_PU1/maggie_output/' and open the HTML file to view significant motifs functional for PU.1 binding!"
   ]
  },
  {
   "cell_type": "code",
   "execution_count": null,
   "metadata": {},
   "outputs": [],
   "source": []
  }
 ],
 "metadata": {
  "kernelspec": {
   "display_name": "Python 3",
   "language": "python",
   "name": "python3"
  },
  "language_info": {
   "codemirror_mode": {
    "name": "ipython",
    "version": 3
   },
   "file_extension": ".py",
   "mimetype": "text/x-python",
   "name": "python",
   "nbconvert_exporter": "python",
   "pygments_lexer": "ipython3",
   "version": "3.6.6"
  }
 },
 "nbformat": 4,
 "nbformat_minor": 2
}
